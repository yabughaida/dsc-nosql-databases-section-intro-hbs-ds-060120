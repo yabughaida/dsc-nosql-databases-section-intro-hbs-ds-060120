{
 "cells": [
  {
   "cell_type": "markdown",
   "metadata": {},
   "source": [
    "# NoSQL Databases - Introduction\n",
    "\n",
    "## Introduction\n",
    "\n",
    "By now, you've dug pretty deep into SQL and relational databases. In this lesson, we'll learn about NoSQL databases, which have become increasingly popular because they can store data that don't fit the traditional \"tabular\" views. \n",
    "\n",
    "\n",
    "## NoSQL Databases\n",
    "\n",
    "You're now familiar with relational databases, how they work, and how to use them to store and retrieve data. However, relational databases and SQL are only part of the picture when it comes to databases -- while their structure and organization is great for tabular data (data that fits in a table), there are plenty of situations where data just doesnt work well as a table. We'll begin this section by exploring some of those situations, and look at some of options out there for databases that don't use a relational format. \n",
    "\n",
    "## MongoDB\n",
    "\n",
    "Once we've gotten the lay of the land, we'll get some hands on experience with one of the most popular NoSQL variants on the market today, MongoDB! We'll start by installing MongoDB on our machine, and then we'll add some data to it, so that we can learn to store data and write queries using MongoDB. By the end of this section, you'll be able to do all the same things in MongoDB as you can in SQLite3!\n",
    "\n",
    "## Summary\n",
    "\n",
    "Get ready! In addition to querying SQL databases; by the end of this section, you will be able to create, update, and retrieve data from a popular NoSQL database, **MongoDB**! "
   ]
  }
 ],
 "metadata": {
  "kernelspec": {
   "display_name": "Python 3",
   "language": "python",
   "name": "python3"
  },
  "language_info": {
   "codemirror_mode": {
    "name": "ipython",
    "version": 3
   },
   "file_extension": ".py",
   "mimetype": "text/x-python",
   "name": "python",
   "nbconvert_exporter": "python",
   "pygments_lexer": "ipython3",
   "version": "3.6.9"
  }
 },
 "nbformat": 4,
 "nbformat_minor": 2
}
